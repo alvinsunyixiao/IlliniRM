{
 "cells": [
  {
   "cell_type": "code",
   "execution_count": 43,
   "metadata": {},
   "outputs": [],
   "source": [
    "import cv2\n",
    "import numpy as np\n",
    "import scipy as scp\n",
    "import matplotlib.pyplot as plt"
   ]
  },
  {
   "cell_type": "code",
   "execution_count": 57,
   "metadata": {},
   "outputs": [],
   "source": [
    "class Armor:\n",
    "    def __init__(self):\n",
    "        pass\n",
    "    \n",
    "    def preprocess(self, img):\n",
    "        self._img = img\n",
    "        self._gray_img = cv2.cvtColor(img, cv2.COLOR_BGR2GRAY)\n",
    "    \n",
    "    def color_thresh(self, color):\n",
    "        bgr = cv2.split(self._img)\n",
    "        result = None\n",
    "        if (color == 'red'):\n",
    "            result = bgr[2] - bgr[1]\n",
    "            thresh = 50\n",
    "        elif (color == 'blue'):\n",
    "            result = bgr[0] - bgr[2]\n",
    "            thresh = 90\n",
    "        if result is None:\n",
    "            return None\n",
    "        ret, result = cv2.threshold(result, thresh, 255, cv2.THRESH_BINARY)\n",
    "        if not ret:\n",
    "            return None\n",
    "        kernal = np.ones((3,3), dtype=np.uint8)\n",
    "        result = cv2.dilate(result, kernal, iterations=1)\n",
    "        return result\n",
    "\n",
    "    def gray_thresh(self):\n",
    "        ret, result = cv2.threshold(self._gray_img, 200, 255, cv2.THRESH_BINARY)\n",
    "        if not ret:\n",
    "            return None\n",
    "        else:\n",
    "            return result\n",
    "\n",
    "    def light_detect(self, color):\n",
    "        light_bin = self.color_thresh(color)\n",
    "        gray_bin = self.gray_thresh()\n",
    "        \n",
    "        cnt_method = cv2.CHAIN_APPROX_SIMPLE\n",
    "        cnt_mode = cv2.RETR_EXTERNAL\n",
    "        im, light_cnt, hier = cv2.findContours(light_bin, cnt_method, cnt_mode)\n",
    "        im, gray_cnt, hier = cv2.findContours(gray_bin, cnt_method, cnt_mode)\n",
    "        \n",
    "        proc_flag = np.zeros()"
   ]
  },
  {
   "cell_type": "code",
   "execution_count": 58,
   "metadata": {},
   "outputs": [],
   "source": [
    "armor = Armor()"
   ]
  },
  {
   "cell_type": "code",
   "execution_count": 59,
   "metadata": {},
   "outputs": [
    {
     "ename": "error",
     "evalue": "/tmp/opencv-20180102-35761-1ch8vve/opencv-3.4.0/modules/imgproc/src/resize.cpp:4044: error: (-215) ssize.width > 0 && ssize.height > 0 in function resize\n",
     "output_type": "error",
     "traceback": [
      "\u001b[0;31m---------------------------------------------------------------------------\u001b[0m",
      "\u001b[0;31merror\u001b[0m                                     Traceback (most recent call last)",
      "\u001b[0;32m<ipython-input-59-087dbe900061>\u001b[0m in \u001b[0;36m<module>\u001b[0;34m()\u001b[0m\n\u001b[1;32m      2\u001b[0m \u001b[0;32mwhile\u001b[0m \u001b[0mTrue\u001b[0m\u001b[0;34m:\u001b[0m\u001b[0;34m\u001b[0m\u001b[0m\n\u001b[1;32m      3\u001b[0m     \u001b[0mret\u001b[0m\u001b[0;34m,\u001b[0m \u001b[0mimg\u001b[0m \u001b[0;34m=\u001b[0m \u001b[0mcap\u001b[0m\u001b[0;34m.\u001b[0m\u001b[0mread\u001b[0m\u001b[0;34m(\u001b[0m\u001b[0;34m)\u001b[0m\u001b[0;34m\u001b[0m\u001b[0m\n\u001b[0;32m----> 4\u001b[0;31m     \u001b[0mimg\u001b[0m \u001b[0;34m=\u001b[0m \u001b[0mcv2\u001b[0m\u001b[0;34m.\u001b[0m\u001b[0mresize\u001b[0m\u001b[0;34m(\u001b[0m\u001b[0mimg\u001b[0m\u001b[0;34m,\u001b[0m \u001b[0;34m(\u001b[0m\u001b[0;36m480\u001b[0m\u001b[0;34m,\u001b[0m\u001b[0;36m320\u001b[0m\u001b[0;34m)\u001b[0m\u001b[0;34m)\u001b[0m\u001b[0;34m\u001b[0m\u001b[0m\n\u001b[0m\u001b[1;32m      5\u001b[0m     \u001b[0marmor\u001b[0m\u001b[0;34m.\u001b[0m\u001b[0mpreprocess\u001b[0m\u001b[0;34m(\u001b[0m\u001b[0mimg\u001b[0m\u001b[0;34m)\u001b[0m\u001b[0;34m\u001b[0m\u001b[0m\n\u001b[1;32m      6\u001b[0m     \u001b[0mcolor_mask\u001b[0m \u001b[0;34m=\u001b[0m \u001b[0marmor\u001b[0m\u001b[0;34m.\u001b[0m\u001b[0mcolor_thresh\u001b[0m\u001b[0;34m(\u001b[0m\u001b[0;34m'red'\u001b[0m\u001b[0;34m)\u001b[0m\u001b[0;34m\u001b[0m\u001b[0m\n",
      "\u001b[0;31merror\u001b[0m: /tmp/opencv-20180102-35761-1ch8vve/opencv-3.4.0/modules/imgproc/src/resize.cpp:4044: error: (-215) ssize.width > 0 && ssize.height > 0 in function resize\n"
     ]
    }
   ],
   "source": [
    "cap = cv2.VideoCapture('./test.MOV')\n",
    "while True:\n",
    "    ret, img = cap.read()\n",
    "    img = cv2.resize(img, (480,320))\n",
    "    armor.preprocess(img)\n",
    "    color_mask = armor.color_thresh('red')\n",
    "    gray_mask = armor.gray_thresh()\n",
    "    color_mask = color_mask & gray_mask\n",
    "    cv2.imshow('img', img)\n",
    "    cv2.imshow('color', color_mask)\n",
    "    cv2.imshow('gray', gray_mask)\n",
    "    if cv2.waitKey(1) & 0xFF == ord('q'):\n",
    "        cap.release()\n",
    "        break"
   ]
  },
  {
   "cell_type": "code",
   "execution_count": 50,
   "metadata": {},
   "outputs": [],
   "source": []
  }
 ],
 "metadata": {
  "kernelspec": {
   "display_name": "Python 2",
   "language": "python",
   "name": "python2"
  },
  "language_info": {
   "codemirror_mode": {
    "name": "ipython",
    "version": 2
   },
   "file_extension": ".py",
   "mimetype": "text/x-python",
   "name": "python",
   "nbconvert_exporter": "python",
   "pygments_lexer": "ipython2",
   "version": "2.7.14"
  }
 },
 "nbformat": 4,
 "nbformat_minor": 2
}
