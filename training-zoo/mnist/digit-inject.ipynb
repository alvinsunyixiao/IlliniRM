{
 "cells": [
  {
   "cell_type": "code",
   "execution_count": 15,
   "metadata": {},
   "outputs": [],
   "source": [
    "import lmdb\n",
    "import numpy as np\n",
    "import cv2\n",
    "from caffe.proto.caffe_pb2 import Datum\n",
    "from tqdm import tqdm\n",
    "import os"
   ]
  },
  {
   "cell_type": "code",
   "execution_count": 16,
   "metadata": {},
   "outputs": [],
   "source": [
    "env = lmdb.open('./mnist_train_lmdb/', map_size=80000*28*28*5)"
   ]
  },
  {
   "cell_type": "code",
   "execution_count": 17,
   "metadata": {},
   "outputs": [],
   "source": [
    "img_dir = '../../buff_benchmark/red_number_new/'"
   ]
  },
  {
   "cell_type": "code",
   "execution_count": 18,
   "metadata": {},
   "outputs": [
    {
     "name": "stdout",
     "output_type": "stream",
     "text": [
      "{'branch_pages': 68L, 'leaf_pages': 15014L, 'overflow_pages': 2048L, 'psize': 4096L, 'depth': 3L, 'entries': 62048L}\n"
     ]
    }
   ],
   "source": [
    "with env.begin() as txn:\n",
    "    print txn.stat()"
   ]
  },
  {
   "cell_type": "code",
   "execution_count": 19,
   "metadata": {},
   "outputs": [
    {
     "name": "stderr",
     "output_type": "stream",
     "text": [
      "100%|██████████| 2178/2178 [00:00<00:00, 11409.84it/s]\n"
     ]
    }
   ],
   "source": [
    "with env.begin(write=True) as txn:\n",
    "    i = 60000\n",
    "    for img_name in tqdm(os.listdir(img_dir)):\n",
    "        if not img_name.endswith('.jpg'):\n",
    "            continue\n",
    "        img_path = os.path.join(img_dir, img_name)\n",
    "        img = cv2.imread(img_path)\n",
    "        img = cv2.cvtColor(img, cv2.COLOR_BGR2GRAY)\n",
    "        datum = Datum()\n",
    "        datum.data = img.tobytes()\n",
    "        datum.width = 28\n",
    "        datum.height = 28\n",
    "        datum.channels = 1\n",
    "        datum.label = int(img_name.split('_')[1].split('.')[0])\n",
    "        txn.put('{:08}'.format(i), datum.SerializeToString())\n",
    "        i += 1"
   ]
  },
  {
   "cell_type": "code",
   "execution_count": 21,
   "metadata": {},
   "outputs": [
    {
     "name": "stdout",
     "output_type": "stream",
     "text": [
      "{'branch_pages': 71L, 'leaf_pages': 15436L, 'overflow_pages': 0L, 'psize': 4096L, 'depth': 3L, 'entries': 62048L}\n"
     ]
    }
   ],
   "source": [
    "with env.begin() as txn:\n",
    "    print txn.stat()"
   ]
  },
  {
   "cell_type": "code",
   "execution_count": null,
   "metadata": {},
   "outputs": [],
   "source": []
  }
 ],
 "metadata": {
  "kernelspec": {
   "display_name": "Python 2",
   "language": "python",
   "name": "python2"
  }
 },
 "nbformat": 4,
 "nbformat_minor": 2
}
