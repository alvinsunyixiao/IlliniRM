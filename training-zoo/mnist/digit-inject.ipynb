{
 "cells": [
  {
   "cell_type": "code",
   "execution_count": 21,
   "metadata": {},
   "outputs": [],
   "source": [
    "import lmdb\n",
    "import numpy as np\n",
    "import cv2\n",
    "from caffe.proto.caffe_pb2 import Datum\n",
    "from tqdm import tqdm\n",
    "import os"
   ]
  },
  {
   "cell_type": "code",
   "execution_count": 22,
   "metadata": {},
   "outputs": [],
   "source": [
    "env = lmdb.open('./mnist_train_lmdb/', map_size=80000*28*28*5)"
   ]
  },
  {
   "cell_type": "code",
   "execution_count": 23,
   "metadata": {},
   "outputs": [],
   "source": [
    "img_dir = '../../buff_benchmark/red_number_new/'\n",
    "no_dig_dir = './no_dig_img/'"
   ]
  },
  {
   "cell_type": "code",
   "execution_count": 24,
   "metadata": {},
   "outputs": [
    {
     "name": "stdout",
     "output_type": "stream",
     "text": [
      "{'branch_pages': 77L, 'leaf_pages': 16668L, 'overflow_pages': 0L, 'psize': 4096L, 'depth': 3L, 'entries': 66977L}\n"
     ]
    }
   ],
   "source": [
    "with env.begin() as txn:\n",
    "    print txn.stat()"
   ]
  },
  {
   "cell_type": "code",
   "execution_count": 29,
   "metadata": {},
   "outputs": [
    {
     "name": "stderr",
     "output_type": "stream",
     "text": [
      "100%|██████████| 2178/2178 [00:00<00:00, 9564.21it/s]\n",
      "100%|██████████| 4929/4929 [00:00<00:00, 9483.04it/s]\n"
     ]
    }
   ],
   "source": [
    "with env.begin(write=True) as txn:\n",
    "    i = 60000\n",
    "    for img_name in tqdm(os.listdir(img_dir)):\n",
    "        if not img_name.endswith('.jpg'):\n",
    "            continue\n",
    "        img_path = os.path.join(img_dir, img_name)\n",
    "        img = cv2.imread(img_path)\n",
    "        img = cv2.cvtColor(img, cv2.COLOR_BGR2GRAY)\n",
    "        datum = Datum()\n",
    "        datum.data = img.tobytes()\n",
    "        datum.width = 28\n",
    "        datum.height = 28\n",
    "        datum.channels = 1\n",
    "        datum.label = int(img_name.split('_')[1].split('.')[0])\n",
    "        txn.put('{:08}'.format(i), datum.SerializeToString())\n",
    "        i += 1\n",
    "    for img_name in tqdm(os.listdir(no_dig_dir)):\n",
    "        if not img_name.endswith('.jpg'):\n",
    "            continue\n",
    "        img_path = os.path.join(no_dig_dir, img_name)\n",
    "        img = cv2.imread(img_path)\n",
    "        img = cv2.cvtColor(img, cv2.COLOR_BGR2GRAY)\n",
    "        datum = Datum()\n",
    "        datum.data = img.tobytes()\n",
    "        datum.width = 28\n",
    "        datum.height = 28\n",
    "        datum.channels = 1\n",
    "        datum.label = 10\n",
    "        txn.put('{:08}'.format(i), datum.SerializeToString())\n",
    "        i += 1\n",
    "    env_new = lmdb.open('./mnist_train_new_lmdb/', map_size=80000*28*28*5)\n",
    "    rand_ind = np.arange(i)\n",
    "    np.random.shuffle(rand_ind)\n",
    "    with env_new.begin(write=True) as txn_new:\n",
    "        cursor = txn.cursor()\n",
    "        for key, value in cursor:\n",
    "            key_idx = int(key)\n",
    "            datum = Datum()\n",
    "            datum.ParseFromString(value)\n",
    "            txn_new.put('{:08}'.format(rand_ind[key_idx]), datum.SerializeToString())\n",
    "        "
   ]
  },
  {
   "cell_type": "code",
   "execution_count": 30,
   "metadata": {},
   "outputs": [
    {
     "name": "stdout",
     "output_type": "stream",
     "text": [
      "{'branch_pages': 77L, 'leaf_pages': 16668L, 'overflow_pages': 0L, 'psize': 4096L, 'depth': 3L, 'entries': 66977L}\n",
      "{'branch_pages': 130L, 'leaf_pages': 19873L, 'overflow_pages': 0L, 'psize': 4096L, 'depth': 3L, 'entries': 66977L}\n"
     ]
    }
   ],
   "source": [
    "with env.begin() as txn:\n",
    "    print txn.stat()\n",
    "with env_new.begin() as txn:\n",
    "    print txn.stat()"
   ]
  },
  {
   "cell_type": "code",
   "execution_count": 20,
   "metadata": {},
   "outputs": [
    {
     "data": {
      "text/plain": [
       "array([4, 3, 2, 0, 1])"
      ]
     },
     "execution_count": 20,
     "metadata": {},
     "output_type": "execute_result"
    }
   ],
   "source": [
    "a = np.arange(5)\n",
    "np.random.shuffle(a)\n",
    "a"
   ]
  },
  {
   "cell_type": "code",
   "execution_count": null,
   "metadata": {},
   "outputs": [],
   "source": []
  }
 ],
 "metadata": {
  "kernelspec": {
   "display_name": "Python 2",
   "language": "python",
   "name": "python2"
  },
  "language_info": {
   "codemirror_mode": {
    "name": "ipython",
    "version": 2
   },
   "file_extension": ".py",
   "mimetype": "text/x-python",
   "name": "python",
   "nbconvert_exporter": "python",
   "pygments_lexer": "ipython2",
   "version": "2.7.14"
  }
 },
 "nbformat": 4,
 "nbformat_minor": 2
}
