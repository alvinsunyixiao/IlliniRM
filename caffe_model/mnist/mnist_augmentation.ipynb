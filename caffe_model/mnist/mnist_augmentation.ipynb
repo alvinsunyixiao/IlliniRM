{
 "cells": [
  {
   "cell_type": "code",
   "execution_count": 2,
   "metadata": {},
   "outputs": [
    {
     "name": "stderr",
     "output_type": "stream",
     "text": [
      "/usr/local/Cellar/python3/3.6.3/Frameworks/Python.framework/Versions/3.6/lib/python3.6/importlib/_bootstrap.py:219: RuntimeWarning: to-Python converter for caffe::SolverParameter already registered; second conversion method ignored.\n",
      "  return f(*args, **kwds)\n",
      "/usr/local/Cellar/python3/3.6.3/Frameworks/Python.framework/Versions/3.6/lib/python3.6/importlib/_bootstrap.py:219: RuntimeWarning: to-Python converter for std::__1::vector<int, std::__1::allocator<int> > already registered; second conversion method ignored.\n",
      "  return f(*args, **kwds)\n"
     ]
    }
   ],
   "source": [
    "import cv2\n",
    "import caffe\n",
    "import numpy as np\n",
    "import lmdb\n",
    "import matplotlib.pyplot as plt\n",
    "from scipy.ndimage.interpolation import shift\n",
    "from caffe.proto.caffe_pb2 import Datum"
   ]
  },
  {
   "cell_type": "code",
   "execution_count": 3,
   "metadata": {},
   "outputs": [],
   "source": [
    "env = lmdb.open('./mnist_train_lmdb/')\n"
   ]
  },
  {
   "cell_type": "code",
   "execution_count": 4,
   "metadata": {},
   "outputs": [],
   "source": [
    "def invert(img):\n",
    "    if np.random.rand() < 0.5:\n",
    "        return img\n",
    "    else:\n",
    "        return 1 - img\n",
    "    \n",
    "def scale(img, rng):\n",
    "    assert len(rng) == 2, \"range value has exactly two boundary numbers\"\n",
    "    assert rng[1] >= rng[0], \"if range arugment, upper bound must be greater than lower bound\"\n",
    "    sc = (rng[1] - rng[0]) * np.random.rand() + rng[0]\n",
    "    old_s = img.shape[0]\n",
    "    low_half = img.shape[0] // 2\n",
    "    up_half = img.shape[0] - low_half\n",
    "    new_s = int(img.shape[0] * sc)\n",
    "    if sc >= 1:\n",
    "        new_s = int(img.shape[0] * sc)\n",
    "        img = cv2.resize(img, (new_s, new_s))\n",
    "        mid = new_s // 2\n",
    "        low = mid - low_half\n",
    "        high = mid + up_half\n",
    "        new_img = img[low:high, low:high]\n",
    "    else:\n",
    "        new_s = int(img.shape[0] / sc)\n",
    "        new_img = np.zeros((new_s, new_s), dtype='float32')\n",
    "        mid = new_s // 2\n",
    "        low = mid - low_half\n",
    "        high = mid + up_half\n",
    "        new_img[low:high, low:high] = img\n",
    "        new_img = cv2.resize(new_img, (old_s, old_s))\n",
    "    return new_img, sc\n",
    "\n",
    "def translate(img, rng, scale):\n",
    "    assert len(rng) == 2, \"range value has exactly two boundary numbers\"\n",
    "    assert rng[1] >= rng[0], \"if range arugment, upper bound must be greater than lower bound\"\n",
    "    factor = 1 / scale\n",
    "    rng[0] *= factor\n",
    "    rng[1] *= factor\n",
    "    x = (rng[1] - rng[0]) * np.random.rand() + rng[0]\n",
    "    y = (rng[1] - rng[0]) * np.random.rand() + rng[0]\n",
    "    return shift(img, [x,y])\n",
    "\n",
    "def rotate(img, rng):\n",
    "    assert len(rng) == 2, \"range value has exactly two boundary numbers\"\n",
    "    assert rng[1] >= rng[0], \"if range arugment, upper bound must be greater than lower bound\"\n",
    "    ang = (rng[1] - rng[0]) * np.random.rand() + rng[0]\n",
    "    rows, cols = img.shape\n",
    "    M = cv2.getRotationMatrix2D((cols/2,rows/2),ang,1)\n",
    "    dst = cv2.warpAffine(img,M,(cols,rows))\n",
    "    return dst\n",
    "\n",
    "def contrast(img, max_rate):\n",
    "    dif = 0.5 - img\n",
    "    rate = np.random.rand() * max_rate\n",
    "    img += dif * rate\n",
    "    return img\n",
    "\n",
    "def addnoise(img, max_std):\n",
    "    std = np.random.rand() * max_std\n",
    "    noise = np.random.normal(0, std, img.shape)\n",
    "    return img + noise"
   ]
  },
  {
   "cell_type": "code",
   "execution_count": 5,
   "metadata": {},
   "outputs": [
    {
     "ename": "KeyboardInterrupt",
     "evalue": "",
     "output_type": "error",
     "traceback": [
      "\u001b[0;31m---------------------------------------------------------------------------\u001b[0m",
      "\u001b[0;31mKeyboardInterrupt\u001b[0m                         Traceback (most recent call last)",
      "\u001b[0;32m<ipython-input-5-2d4fb325850f>\u001b[0m in \u001b[0;36m<module>\u001b[0;34m()\u001b[0m\n\u001b[1;32m     12\u001b[0m             \u001b[0mimg\u001b[0m \u001b[0;34m=\u001b[0m \u001b[0maddnoise\u001b[0m\u001b[0;34m(\u001b[0m\u001b[0mimg\u001b[0m\u001b[0;34m,\u001b[0m \u001b[0;36m0.08\u001b[0m\u001b[0;34m)\u001b[0m\u001b[0;34m\u001b[0m\u001b[0m\n\u001b[1;32m     13\u001b[0m             \u001b[0mcv2\u001b[0m\u001b[0;34m.\u001b[0m\u001b[0mimshow\u001b[0m\u001b[0;34m(\u001b[0m\u001b[0;34m'go'\u001b[0m\u001b[0;34m,\u001b[0m \u001b[0mimg\u001b[0m\u001b[0;34m)\u001b[0m\u001b[0;34m\u001b[0m\u001b[0m\n\u001b[0;32m---> 14\u001b[0;31m             \u001b[0mcv2\u001b[0m\u001b[0;34m.\u001b[0m\u001b[0mwaitKey\u001b[0m\u001b[0;34m(\u001b[0m\u001b[0;36m0\u001b[0m\u001b[0;34m)\u001b[0m\u001b[0;34m\u001b[0m\u001b[0m\n\u001b[0m\u001b[1;32m     15\u001b[0m \u001b[0;34m\u001b[0m\u001b[0m\n\u001b[1;32m     16\u001b[0m \u001b[0;31m#plt.imshow(img, cmap='gray')\u001b[0m\u001b[0;34m\u001b[0m\u001b[0;34m\u001b[0m\u001b[0m\n",
      "\u001b[0;31mKeyboardInterrupt\u001b[0m: "
     ]
    }
   ],
   "source": [
    "while True:\n",
    "    with env.begin() as txn:\n",
    "        for value, data in txn.cursor():\n",
    "            data = Datum.FromString(data)\n",
    "            img = np.fromstring(data.data, dtype='uint8').reshape(28,28)\n",
    "            img = img.astype('float32') / 255\n",
    "            img = rotate(img, [-15,15])\n",
    "            img, sc = scale(img, [0.6,1.4])\n",
    "            img = translate(img, [-3,3], sc)\n",
    "            #img = invert(img)\n",
    "            img = contrast(img, 0.6)\n",
    "            img = addnoise(img, 0.08)\n",
    "            cv2.imshow('go', img)\n",
    "            cv2.waitKey(0)\n",
    "\n",
    "#plt.imshow(img, cmap='gray')\n",
    "#plt.show()"
   ]
  },
  {
   "cell_type": "code",
   "execution_count": 623,
   "metadata": {},
   "outputs": [],
   "source": [
    "np.random.normal?"
   ]
  }
 ],
 "metadata": {
  "kernelspec": {
   "display_name": "Python 3",
   "language": "python",
   "name": "python3"
  },
  "language_info": {
   "codemirror_mode": {
    "name": "ipython",
    "version": 3
   },
   "file_extension": ".py",
   "mimetype": "text/x-python",
   "name": "python",
   "nbconvert_exporter": "python",
   "pygments_lexer": "ipython3",
   "version": "3.6.3"
  }
 },
 "nbformat": 4,
 "nbformat_minor": 2
}
